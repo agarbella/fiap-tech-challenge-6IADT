{
 "cells": [
  {
   "cell_type": "markdown",
   "id": "405696c8",
   "metadata": {},
   "source": [
    "# Tech Challenge - IA para Devs: Fase 1"
   ]
  },
  {
   "cell_type": "markdown",
   "id": "97ec1c8e",
   "metadata": {},
   "source": [
    "## Introdução e Justificativa da Escolha do Dataset\n",
    "\n",
    "Doenças cardiovasculares representam uma das principais causas de mortalidade global, tornando a implementação de ferramentas de suporte ao diagnóstico uma necessidade real em ambientes clínicos. A capacidade de analisar um vasto volume de dados médicos e identificar padrões complexos pode otimizar a triagem de pacientes e auxiliar os profissionais de saúde na tomada de decisões informadas, agilizando processos e potencialmente salvando vidas.\n",
    "\n",
    "Este projeto visa desenvolver a base de um sistema inteligente de suporte ao diagnóstico, utilizando técnicas de Machine Learning. Para atingir este objetivo, selecionamos o conjunto de dados [\"Heart Disease\" (Doença Cardíaca)](https://www.kaggle.com/datasets/oktayrdeki/heart-disease), disponível na plataforma Kaggle.\n",
    "\n",
    "### Motivos para a Escolha do Dataset \"Heart Disease\":\n",
    "\n",
    "1 - Relevância Clínica: A predição de doença cardíaca é um problema real com potencial para aplicações práticas em hospitais e clínicas.\n",
    "\n",
    "2 - Natureza da Classificação: O conjunto de dados é estruturado para uma tarefa de classificação binária (presença ou ausência de doença cardíaca), que se alinha perfeitamente com o requisito do desafio de realizar um diagnóstico \"a pessoa tem ou não uma doença\". Isso permite a aplicação direta de diversos algoritmos de Machine Learning focados em classificação.\n",
    "\n",
    "3 - Variedade de Atributos: O dataset contém uma série de atributos clínicos e demográficos relevantes (como idade, sexo, tipo de dor no peito, pressão arterial, colesterol, entre outros), que são comumente utilizados na prática médica para avaliar o risco cardiovascular. Esta riqueza de informações permitirá explorar a influência de diferentes fatores no diagnóstico.\n",
    "\n",
    "4 - Disponibilidade e Acessibilidade: Sendo um dataset público e amplamente utilizado na comunidade de Machine Learning, facilita a validação e a comparação de resultados, além de possuir uma estrutura fácil que favorece a aplicação dos conceitos propostos no Tech Challenge.\n",
    "\n",
    "### O que se Pretende Descobrir com Este Dataset:\n",
    "\n",
    "Com a utilização do dataset \"Heart Disease\", este projeto pretende descobrir e validar:\n",
    "\n",
    "1 - Modelos Preditivos Eficazes: O principal objetivo é desenvolver modelos de Machine Learning capazes de prever com alta acurácia a presença de doença cardíaca em indivíduos, com base em suas características clínicas e resultados de exames.\n",
    "\n",
    "2 - Fatores de Risco Mais Influentes: Através da análise de feature importance e outras técnicas de interpretabilidade (como SHAP, se aplicável em etapas futuras), busca-se identificar quais atributos do paciente (variáveis) são os mais relevantes e preditivos para o diagnóstico de doença cardíaca. Isso pode oferecer insights valiosos que complementem o conhecimento médico.\n",
    "\n",
    "3 - Robustez e Viabilidade do Modelo: Avaliar a performance dos modelos utilizando métricas adequadas (como acurácia, precisão, recall e F1-score) para determinar sua robustez e potencial de aplicação prática como ferramenta de suporte ao diagnóstico em um ambiente hospitalar, sempre ressaltando que a decisão final é do profissional médico.\n"
   ]
  },
  {
   "cell_type": "markdown",
   "id": "6fb02147",
   "metadata": {},
   "source": [
    "## Análise do Dataset: Heart Diseases (Doença Cadíaca)\n",
    "\n",
    "Neste notebook, vamos realizar uma análise exploratória e construir um modelo de Machine Learning para prever doenças cardíacas com base em hábitos, estilos de vida, genética, e outras características.\n",
    "\n",
    "Nesta análise, iremos realizar etapas de machine learning, como:\n",
    "\n",
    "- Carregamento e exploração dos dados\n",
    "- Limpeza e pré-processamento\n",
    "- Modelagem (ML)\n",
    "- Avaliação dos modelos\n",
    "- Interpretação dos resultados"
   ]
  },
  {
   "cell_type": "markdown",
   "id": "c0aa9173",
   "metadata": {},
   "source": [
    "## Primeira análise dos dados\n",
    "\n",
    "Vamos visualizar as primeiras linhas do dataset para entender as colunas disponíveis, seus tipos e possíveis problemas (valores ausentes, inconsistências, etc)."
   ]
  },
  {
   "cell_type": "code",
   "execution_count": 1,
   "id": "f53e9bb5",
   "metadata": {},
   "outputs": [
    {
     "name": "stderr",
     "output_type": "stream",
     "text": [
      "/Users/antoniorafael/workspace/Personal/ai/pos/tech-challenge/venv/lib/python3.10/site-packages/tqdm/auto.py:21: TqdmWarning: IProgress not found. Please update jupyter and ipywidgets. See https://ipywidgets.readthedocs.io/en/stable/user_install.html\n",
      "  from .autonotebook import tqdm as notebook_tqdm\n"
     ]
    },
    {
     "data": {
      "text/html": [
       "\n",
       "            <div>\n",
       "                <ins><a href=\"https://ydata.ai/register\">Upgrade to ydata-sdk</a></ins>\n",
       "                <p>\n",
       "                    Improve your data and profiling with ydata-sdk, featuring data quality scoring, redundancy detection, outlier identification, text validation, and synthetic data generation.\n",
       "                </p>\n",
       "            </div>\n",
       "            "
      ],
      "text/plain": [
       "<IPython.core.display.HTML object>"
      ]
     },
     "metadata": {},
     "output_type": "display_data"
    },
    {
     "data": {
      "text/html": [
       "<div>\n",
       "<style scoped>\n",
       "    .dataframe tbody tr th:only-of-type {\n",
       "        vertical-align: middle;\n",
       "    }\n",
       "\n",
       "    .dataframe tbody tr th {\n",
       "        vertical-align: top;\n",
       "    }\n",
       "\n",
       "    .dataframe thead th {\n",
       "        text-align: right;\n",
       "    }\n",
       "</style>\n",
       "<table border=\"1\" class=\"dataframe\">\n",
       "  <thead>\n",
       "    <tr style=\"text-align: right;\">\n",
       "      <th></th>\n",
       "      <th>Age</th>\n",
       "      <th>Gender</th>\n",
       "      <th>Blood Pressure</th>\n",
       "      <th>Cholesterol Level</th>\n",
       "      <th>Exercise Habits</th>\n",
       "      <th>Smoking</th>\n",
       "      <th>Family Heart Disease</th>\n",
       "      <th>Diabetes</th>\n",
       "      <th>BMI</th>\n",
       "      <th>High Blood Pressure</th>\n",
       "      <th>...</th>\n",
       "      <th>High LDL Cholesterol</th>\n",
       "      <th>Alcohol Consumption</th>\n",
       "      <th>Stress Level</th>\n",
       "      <th>Sleep Hours</th>\n",
       "      <th>Sugar Consumption</th>\n",
       "      <th>Triglyceride Level</th>\n",
       "      <th>Fasting Blood Sugar</th>\n",
       "      <th>CRP Level</th>\n",
       "      <th>Homocysteine Level</th>\n",
       "      <th>Heart Disease Status</th>\n",
       "    </tr>\n",
       "  </thead>\n",
       "  <tbody>\n",
       "    <tr>\n",
       "      <th>0</th>\n",
       "      <td>56.0</td>\n",
       "      <td>Male</td>\n",
       "      <td>153.0</td>\n",
       "      <td>155.0</td>\n",
       "      <td>High</td>\n",
       "      <td>Yes</td>\n",
       "      <td>Yes</td>\n",
       "      <td>No</td>\n",
       "      <td>24.991591</td>\n",
       "      <td>Yes</td>\n",
       "      <td>...</td>\n",
       "      <td>No</td>\n",
       "      <td>High</td>\n",
       "      <td>Medium</td>\n",
       "      <td>7.633228</td>\n",
       "      <td>Medium</td>\n",
       "      <td>342.0</td>\n",
       "      <td>NaN</td>\n",
       "      <td>12.969246</td>\n",
       "      <td>12.387250</td>\n",
       "      <td>No</td>\n",
       "    </tr>\n",
       "    <tr>\n",
       "      <th>1</th>\n",
       "      <td>69.0</td>\n",
       "      <td>Female</td>\n",
       "      <td>146.0</td>\n",
       "      <td>286.0</td>\n",
       "      <td>High</td>\n",
       "      <td>No</td>\n",
       "      <td>Yes</td>\n",
       "      <td>Yes</td>\n",
       "      <td>25.221799</td>\n",
       "      <td>No</td>\n",
       "      <td>...</td>\n",
       "      <td>No</td>\n",
       "      <td>Medium</td>\n",
       "      <td>High</td>\n",
       "      <td>8.744034</td>\n",
       "      <td>Medium</td>\n",
       "      <td>133.0</td>\n",
       "      <td>157.0</td>\n",
       "      <td>9.355389</td>\n",
       "      <td>19.298875</td>\n",
       "      <td>No</td>\n",
       "    </tr>\n",
       "    <tr>\n",
       "      <th>2</th>\n",
       "      <td>46.0</td>\n",
       "      <td>Male</td>\n",
       "      <td>126.0</td>\n",
       "      <td>216.0</td>\n",
       "      <td>Low</td>\n",
       "      <td>No</td>\n",
       "      <td>No</td>\n",
       "      <td>No</td>\n",
       "      <td>29.855447</td>\n",
       "      <td>No</td>\n",
       "      <td>...</td>\n",
       "      <td>Yes</td>\n",
       "      <td>Low</td>\n",
       "      <td>Low</td>\n",
       "      <td>4.440440</td>\n",
       "      <td>Low</td>\n",
       "      <td>393.0</td>\n",
       "      <td>92.0</td>\n",
       "      <td>12.709873</td>\n",
       "      <td>11.230926</td>\n",
       "      <td>No</td>\n",
       "    </tr>\n",
       "    <tr>\n",
       "      <th>3</th>\n",
       "      <td>32.0</td>\n",
       "      <td>Female</td>\n",
       "      <td>122.0</td>\n",
       "      <td>293.0</td>\n",
       "      <td>High</td>\n",
       "      <td>Yes</td>\n",
       "      <td>Yes</td>\n",
       "      <td>No</td>\n",
       "      <td>24.130477</td>\n",
       "      <td>Yes</td>\n",
       "      <td>...</td>\n",
       "      <td>Yes</td>\n",
       "      <td>Low</td>\n",
       "      <td>High</td>\n",
       "      <td>5.249405</td>\n",
       "      <td>High</td>\n",
       "      <td>293.0</td>\n",
       "      <td>94.0</td>\n",
       "      <td>12.509046</td>\n",
       "      <td>5.961958</td>\n",
       "      <td>No</td>\n",
       "    </tr>\n",
       "    <tr>\n",
       "      <th>4</th>\n",
       "      <td>60.0</td>\n",
       "      <td>Male</td>\n",
       "      <td>166.0</td>\n",
       "      <td>242.0</td>\n",
       "      <td>Low</td>\n",
       "      <td>Yes</td>\n",
       "      <td>Yes</td>\n",
       "      <td>Yes</td>\n",
       "      <td>20.486289</td>\n",
       "      <td>Yes</td>\n",
       "      <td>...</td>\n",
       "      <td>No</td>\n",
       "      <td>Low</td>\n",
       "      <td>High</td>\n",
       "      <td>7.030971</td>\n",
       "      <td>High</td>\n",
       "      <td>263.0</td>\n",
       "      <td>154.0</td>\n",
       "      <td>10.381259</td>\n",
       "      <td>8.153887</td>\n",
       "      <td>No</td>\n",
       "    </tr>\n",
       "  </tbody>\n",
       "</table>\n",
       "<p>5 rows × 21 columns</p>\n",
       "</div>"
      ],
      "text/plain": [
       "    Age  Gender  Blood Pressure  Cholesterol Level Exercise Habits Smoking  \\\n",
       "0  56.0    Male           153.0              155.0            High     Yes   \n",
       "1  69.0  Female           146.0              286.0            High      No   \n",
       "2  46.0    Male           126.0              216.0             Low      No   \n",
       "3  32.0  Female           122.0              293.0            High     Yes   \n",
       "4  60.0    Male           166.0              242.0             Low     Yes   \n",
       "\n",
       "  Family Heart Disease Diabetes        BMI High Blood Pressure  ...  \\\n",
       "0                  Yes       No  24.991591                 Yes  ...   \n",
       "1                  Yes      Yes  25.221799                  No  ...   \n",
       "2                   No       No  29.855447                  No  ...   \n",
       "3                  Yes       No  24.130477                 Yes  ...   \n",
       "4                  Yes      Yes  20.486289                 Yes  ...   \n",
       "\n",
       "  High LDL Cholesterol Alcohol Consumption Stress Level Sleep Hours  \\\n",
       "0                   No                High       Medium    7.633228   \n",
       "1                   No              Medium         High    8.744034   \n",
       "2                  Yes                 Low          Low    4.440440   \n",
       "3                  Yes                 Low         High    5.249405   \n",
       "4                   No                 Low         High    7.030971   \n",
       "\n",
       "   Sugar Consumption Triglyceride Level  Fasting Blood Sugar  CRP Level  \\\n",
       "0             Medium              342.0                  NaN  12.969246   \n",
       "1             Medium              133.0                157.0   9.355389   \n",
       "2                Low              393.0                 92.0  12.709873   \n",
       "3               High              293.0                 94.0  12.509046   \n",
       "4               High              263.0                154.0  10.381259   \n",
       "\n",
       "   Homocysteine Level  Heart Disease Status  \n",
       "0           12.387250                    No  \n",
       "1           19.298875                    No  \n",
       "2           11.230926                    No  \n",
       "3            5.961958                    No  \n",
       "4            8.153887                    No  \n",
       "\n",
       "[5 rows x 21 columns]"
      ]
     },
     "execution_count": 1,
     "metadata": {},
     "output_type": "execute_result"
    }
   ],
   "source": [
    "import pandas as pd\n",
    "import matplotlib.pyplot as plt\n",
    "import seaborn as sns\n",
    "from sklearn.preprocessing import LabelEncoder\n",
    "from ydata_profiling import ProfileReport\n",
    "\n",
    "\n",
    "# Estilo de gráficos\n",
    "sns.set(style=\"whitegrid\")\n",
    "\n",
    "# Carregar o dataset\n",
    "base = pd.read_csv('https://raw.githubusercontent.com/antrafa/fiap-tech-challenge-6IADT/refs/heads/main/data/heart_disease.csv')\n",
    "\n",
    "# Visualizar as primeiras linhas\n",
    "base.head()"
   ]
  },
  {
   "cell_type": "markdown",
   "id": "86ee4bf5",
   "metadata": {},
   "source": [
    "## Análise preliminar do dataset\n",
    "\n",
    "Aqui estão as colunas:\n",
    "\n",
    "| Coluna                   | Descrição                                                                                     |\n",
    "|--------------------------|-----------------------------------------------------------------------------------------------|\n",
    "| `Age`                    | A idade do indivíduo.                                                                         |\n",
    "| `Gender`                 | O sexo do indivíduo (Masculino ou Feminino)                                                   |\n",
    "| `Blood Pressure`         | A pressão arterial do indivíduo (sistólica)                                                   |\n",
    "| `Cholesterol Level`      | O nível total de colesterol do indivíduo.                                                     |\n",
    "| `Exercise Habits`        | Os hábitos de exercício do indivíduo (Baixo, Médio, Alto)                                     |\n",
    "| `Smoking`                | Se o indivíduo fuma ou não (Sim ou Não)                                                       |\n",
    "| `Family Heart Disease`   | Se há histórico familiar de doença cardíaca (Sim ou Não)                                      |\n",
    "| `Diabetes`               | Se o indivíduo tem diabetes (Sim ou Não)                                                      |\n",
    "| `BMI`                    | O índice de massa corporal do indivíduo.                                                      |\n",
    "| `High Blood Pressure`    | Se o indivíduo tem pressão alta (Sim ou Não)                                                  |\n",
    "| `Low HDL Cholesterol`    | Se o indivíduo tem colesterol HDL baixo (Sim ou Não)                                          |\n",
    "| `High LDL Cholesterol`   | Se o indivíduo tem colesterol LDL alto (Sim ou Não)                                           |\n",
    "| `Alcohol Consumption`    | O nível de consumo de álcool do indivíduo (Nenhum, Baixo, Médio, Alto)                        |\n",
    "| `Stress Level`           | O nível de estresse do indivíduo (Baixo, Médio, Alto)                                         |\n",
    "| `Sleep Hours`            | O número de horas que o indivíduo dorme.                                                      |\n",
    "| `Sugar Consumption`      | O nível de consumo de açúcar do indivíduo (Baixo, Médio, Alto)                                |\n",
    "| `Triglyceride Level`     | O nível de triglicerídeos do indivíduo.                                                       |\n",
    "| `Fasting Blood Sugar`    | O nível de açúcar no sangue em jejum do indivíduo.                                            |\n",
    "| `CRP Level`              | O nível de proteína C-reativa (um marcador de inflamação)                                     |\n",
    "| `Homocysteine Level`     | O nível de homocisteína do indivíduo (um aminoácido que afeta a saúde dos vasos sanguíneos)   |\n",
    "| `Heart Disease Status`   | Alvo da análise: O status de doença cardíaca do indivíduo (Sim ou Não)                         |"
   ]
  },
  {
   "cell_type": "code",
   "execution_count": 2,
   "id": "bcfc5ce5",
   "metadata": {},
   "outputs": [
    {
     "data": {
      "text/plain": [
       "(10000, 21)"
      ]
     },
     "execution_count": 2,
     "metadata": {},
     "output_type": "execute_result"
    }
   ],
   "source": [
    "base.shape"
   ]
  },
  {
   "cell_type": "code",
   "execution_count": 3,
   "id": "d70fa90c",
   "metadata": {},
   "outputs": [
    {
     "name": "stdout",
     "output_type": "stream",
     "text": [
      "<class 'pandas.core.frame.DataFrame'>\n",
      "RangeIndex: 10000 entries, 0 to 9999\n",
      "Data columns (total 21 columns):\n",
      " #   Column                Non-Null Count  Dtype  \n",
      "---  ------                --------------  -----  \n",
      " 0   Age                   9971 non-null   float64\n",
      " 1   Gender                9981 non-null   object \n",
      " 2   Blood Pressure        9981 non-null   float64\n",
      " 3   Cholesterol Level     9970 non-null   float64\n",
      " 4   Exercise Habits       9975 non-null   object \n",
      " 5   Smoking               9975 non-null   object \n",
      " 6   Family Heart Disease  9979 non-null   object \n",
      " 7   Diabetes              9970 non-null   object \n",
      " 8   BMI                   9978 non-null   float64\n",
      " 9   High Blood Pressure   9974 non-null   object \n",
      " 10  Low HDL Cholesterol   9975 non-null   object \n",
      " 11  High LDL Cholesterol  9974 non-null   object \n",
      " 12  Alcohol Consumption   7414 non-null   object \n",
      " 13  Stress Level          9978 non-null   object \n",
      " 14  Sleep Hours           9975 non-null   float64\n",
      " 15  Sugar Consumption     9970 non-null   object \n",
      " 16  Triglyceride Level    9974 non-null   float64\n",
      " 17  Fasting Blood Sugar   9978 non-null   float64\n",
      " 18  CRP Level             9974 non-null   float64\n",
      " 19  Homocysteine Level    9980 non-null   float64\n",
      " 20  Heart Disease Status  10000 non-null  object \n",
      "dtypes: float64(9), object(12)\n",
      "memory usage: 1.6+ MB\n"
     ]
    }
   ],
   "source": [
    "# Informações sobre o dataset\n",
    "base.info()"
   ]
  },
  {
   "cell_type": "markdown",
   "id": "8a245b3c",
   "metadata": {},
   "source": [
    "#### Ao analizar as informações do dataset, podemos ver:\n",
    "\n",
    "- Ele possui 10000 linhas. Isso é um bom volume de dados para treinamento do nosso modelo;\n",
    "\n",
    "- Temos 21 colunas no total, como havíamos identificado anteriormente;\n",
    "\n",
    "- 9 colunas são do tipo `float64` (números decimais). Isso inclui `Age`, `Blood Pressure`, `Cholesterol Level`, `BMI`, `Sleep Hours`, `Triglyceride Level`, `Fasting Blood Sugar`, `CRP Level`, `Homocysteine Level`. São boas para cálculos numéricos.\n",
    "\n",
    "- 12 colunas são do tipo `object`. Isso geralmente indica que a coluna contém `strings` ou `dados mistos`. Essas colunas são: `Gender`, `Exercise Habits`, `Smoking`, `Family Heart Disease`, `Diabetes`, `High Blood Pressure`, `Low HDL Cholesterol`, `High LDL Cholesterol`, `Alcohol Consumption`, `Stress Level`, `Sugar Consumption`, e `Heart Disease Status`.\n",
    "\n",
    "    - Muitas dessas colunas (`Gender`, `Smoking`, `Diabetes`, `Heart Disease Status`, ...) são categóricas, e precisarão ser convertidas para um formato numérico antes de usarmos em algoritmos de Machine Learning.\n",
    "\n",
    "- Ao analizar a contagem de valores não-nulos das colunas, vemos que muitas possuem valores abaixo de 10000, nos dizendo que existem valores ausentes em várias colunas.\n",
    "\n",
    "    - A coluna `Alcohol Consumption` se destaca por ter apenas 7414 non-null valores, indicando que ela tem um número significativo de valores ausentes (10000 - 7414 = 2586 valores nulos).\n",
    "\n",
    "- A única coluna que tem 10000 non-null valores é `Heart Disease Status`. Isso é excelente, pois significa que nossa variável alvo não tem dados ausentes, o que simplifica o pré-processamento para ela.\n",
    "\n",
    "\n",
    "#### Conclusões e Próximos Passos (Pré-processamento de Dados):\n",
    "\n",
    "Com base nesta análise, já podemos identificar algumas tarefas de pré-processamento que precisaremos realizar:\n",
    "\n",
    "1 - Tratamento de Valores Ausentes:\n",
    "\n",
    "Precisamos decidir como lidar com os valores nulos em colunas como `Age`, `Blood Pressure`, `Cholesterol Level`, `Alcohol Consumption`,... As estratégias comuns incluem:\n",
    "\n",
    " - Remover linhas com valores nulos (se forem poucas e não impactarem muito o tamanho do dataset).\n",
    "\n",
    "- Imputar valores (substituir nulos pela média, mediana, moda ou um valor constante, dependendo do tipo de dado e da distribuição).\n",
    "\n",
    "2 - Conversão de Variáveis Categóricas:\n",
    "\n",
    "Todas as 12 colunas do tipo object que representam categorias (como `Gender`, `Exercise Habits`, `Smoking`, `Heart Disease Status`,...) precisarão ser convertidas para representações numéricas.\n",
    "\n",
    "- Para variáveis binárias (Yes/No, Male/Female), podemos usar mapeamento manual (0/1).\n",
    "\n",
    "- Para variáveis com mais de duas categorias (Low/Medium/High, None/Low/Medium/High), podemos usar LabelEncoder (se a ordem importar, como em níveis de estresse) ou One-Hot Encoding (se não houver uma ordem intrínseca e para evitar que o modelo interprete como ordem).\n",
    "\n",
    "- A coluna `Heart Disease Status` contém 'Yes'/'No' e precisaremos converte-la para 0/1.\n"
   ]
  },
  {
   "cell_type": "code",
   "execution_count": 4,
   "id": "ce04a435",
   "metadata": {},
   "outputs": [
    {
     "name": "stdout",
     "output_type": "stream",
     "text": [
      "Age                       29\n",
      "Gender                    19\n",
      "Blood Pressure            19\n",
      "Cholesterol Level         30\n",
      "Exercise Habits           25\n",
      "Smoking                   25\n",
      "Family Heart Disease      21\n",
      "Diabetes                  30\n",
      "BMI                       22\n",
      "High Blood Pressure       26\n",
      "Low HDL Cholesterol       25\n",
      "High LDL Cholesterol      26\n",
      "Alcohol Consumption     2586\n",
      "Stress Level              22\n",
      "Sleep Hours               25\n",
      "Sugar Consumption         30\n",
      "Triglyceride Level        26\n",
      "Fasting Blood Sugar       22\n",
      "CRP Level                 26\n",
      "Homocysteine Level        20\n",
      "Heart Disease Status       0\n",
      "dtype: int64\n"
     ]
    }
   ],
   "source": [
    "print(base.isnull().sum())"
   ]
  },
  {
   "cell_type": "markdown",
   "id": "8e86b9b8",
   "metadata": {},
   "source": [
    "Na saída acima podemos ver o número exato de valores nulos para cada coluna"
   ]
  },
  {
   "cell_type": "code",
   "execution_count": 5,
   "id": "dfbc7057",
   "metadata": {},
   "outputs": [
    {
     "data": {
      "text/html": [
       "<div>\n",
       "<style scoped>\n",
       "    .dataframe tbody tr th:only-of-type {\n",
       "        vertical-align: middle;\n",
       "    }\n",
       "\n",
       "    .dataframe tbody tr th {\n",
       "        vertical-align: top;\n",
       "    }\n",
       "\n",
       "    .dataframe thead th {\n",
       "        text-align: right;\n",
       "    }\n",
       "</style>\n",
       "<table border=\"1\" class=\"dataframe\">\n",
       "  <thead>\n",
       "    <tr style=\"text-align: right;\">\n",
       "      <th></th>\n",
       "      <th>Age</th>\n",
       "      <th>Blood Pressure</th>\n",
       "      <th>Cholesterol Level</th>\n",
       "      <th>BMI</th>\n",
       "      <th>Sleep Hours</th>\n",
       "      <th>Triglyceride Level</th>\n",
       "      <th>Fasting Blood Sugar</th>\n",
       "      <th>CRP Level</th>\n",
       "      <th>Homocysteine Level</th>\n",
       "    </tr>\n",
       "  </thead>\n",
       "  <tbody>\n",
       "    <tr>\n",
       "      <th>count</th>\n",
       "      <td>9971.000000</td>\n",
       "      <td>9981.000000</td>\n",
       "      <td>9970.000000</td>\n",
       "      <td>9978.000000</td>\n",
       "      <td>9975.000000</td>\n",
       "      <td>9974.000000</td>\n",
       "      <td>9978.000000</td>\n",
       "      <td>9974.000000</td>\n",
       "      <td>9980.000000</td>\n",
       "    </tr>\n",
       "    <tr>\n",
       "      <th>mean</th>\n",
       "      <td>49.296259</td>\n",
       "      <td>149.757740</td>\n",
       "      <td>225.425577</td>\n",
       "      <td>29.077269</td>\n",
       "      <td>6.991329</td>\n",
       "      <td>250.734409</td>\n",
       "      <td>120.142213</td>\n",
       "      <td>7.472201</td>\n",
       "      <td>12.456271</td>\n",
       "    </tr>\n",
       "    <tr>\n",
       "      <th>std</th>\n",
       "      <td>18.193970</td>\n",
       "      <td>17.572969</td>\n",
       "      <td>43.575809</td>\n",
       "      <td>6.307098</td>\n",
       "      <td>1.753195</td>\n",
       "      <td>87.067226</td>\n",
       "      <td>23.584011</td>\n",
       "      <td>4.340248</td>\n",
       "      <td>4.323426</td>\n",
       "    </tr>\n",
       "    <tr>\n",
       "      <th>min</th>\n",
       "      <td>18.000000</td>\n",
       "      <td>120.000000</td>\n",
       "      <td>150.000000</td>\n",
       "      <td>18.002837</td>\n",
       "      <td>4.000605</td>\n",
       "      <td>100.000000</td>\n",
       "      <td>80.000000</td>\n",
       "      <td>0.003647</td>\n",
       "      <td>5.000236</td>\n",
       "    </tr>\n",
       "    <tr>\n",
       "      <th>25%</th>\n",
       "      <td>34.000000</td>\n",
       "      <td>134.000000</td>\n",
       "      <td>187.000000</td>\n",
       "      <td>23.658075</td>\n",
       "      <td>5.449866</td>\n",
       "      <td>176.000000</td>\n",
       "      <td>99.000000</td>\n",
       "      <td>3.674126</td>\n",
       "      <td>8.723334</td>\n",
       "    </tr>\n",
       "    <tr>\n",
       "      <th>50%</th>\n",
       "      <td>49.000000</td>\n",
       "      <td>150.000000</td>\n",
       "      <td>226.000000</td>\n",
       "      <td>29.079492</td>\n",
       "      <td>7.003252</td>\n",
       "      <td>250.000000</td>\n",
       "      <td>120.000000</td>\n",
       "      <td>7.472164</td>\n",
       "      <td>12.409395</td>\n",
       "    </tr>\n",
       "    <tr>\n",
       "      <th>75%</th>\n",
       "      <td>65.000000</td>\n",
       "      <td>165.000000</td>\n",
       "      <td>263.000000</td>\n",
       "      <td>34.520015</td>\n",
       "      <td>8.531577</td>\n",
       "      <td>326.000000</td>\n",
       "      <td>141.000000</td>\n",
       "      <td>11.255592</td>\n",
       "      <td>16.140564</td>\n",
       "    </tr>\n",
       "    <tr>\n",
       "      <th>max</th>\n",
       "      <td>80.000000</td>\n",
       "      <td>180.000000</td>\n",
       "      <td>300.000000</td>\n",
       "      <td>39.996954</td>\n",
       "      <td>9.999952</td>\n",
       "      <td>400.000000</td>\n",
       "      <td>160.000000</td>\n",
       "      <td>14.997087</td>\n",
       "      <td>19.999037</td>\n",
       "    </tr>\n",
       "  </tbody>\n",
       "</table>\n",
       "</div>"
      ],
      "text/plain": [
       "               Age  Blood Pressure  Cholesterol Level          BMI  \\\n",
       "count  9971.000000     9981.000000        9970.000000  9978.000000   \n",
       "mean     49.296259      149.757740         225.425577    29.077269   \n",
       "std      18.193970       17.572969          43.575809     6.307098   \n",
       "min      18.000000      120.000000         150.000000    18.002837   \n",
       "25%      34.000000      134.000000         187.000000    23.658075   \n",
       "50%      49.000000      150.000000         226.000000    29.079492   \n",
       "75%      65.000000      165.000000         263.000000    34.520015   \n",
       "max      80.000000      180.000000         300.000000    39.996954   \n",
       "\n",
       "       Sleep Hours  Triglyceride Level  Fasting Blood Sugar    CRP Level  \\\n",
       "count  9975.000000         9974.000000          9978.000000  9974.000000   \n",
       "mean      6.991329          250.734409           120.142213     7.472201   \n",
       "std       1.753195           87.067226            23.584011     4.340248   \n",
       "min       4.000605          100.000000            80.000000     0.003647   \n",
       "25%       5.449866          176.000000            99.000000     3.674126   \n",
       "50%       7.003252          250.000000           120.000000     7.472164   \n",
       "75%       8.531577          326.000000           141.000000    11.255592   \n",
       "max       9.999952          400.000000           160.000000    14.997087   \n",
       "\n",
       "       Homocysteine Level  \n",
       "count         9980.000000  \n",
       "mean            12.456271  \n",
       "std              4.323426  \n",
       "min              5.000236  \n",
       "25%              8.723334  \n",
       "50%             12.409395  \n",
       "75%             16.140564  \n",
       "max             19.999037  "
      ]
     },
     "execution_count": 5,
     "metadata": {},
     "output_type": "execute_result"
    }
   ],
   "source": [
    "# Estatísticas básicas\n",
    "base.describe()"
   ]
  },
  {
   "cell_type": "markdown",
   "id": "49a15307",
   "metadata": {},
   "source": [
    "### Análise estatística com `.describe()`\n",
    "\n",
    "O comando `describe` exibe estatísticas descritivas básicas para cada coluna numérica do dataset:\n",
    "\n",
    "| Estatística    | Significado                                                    |\n",
    "| -------------- | -------------------------------------------------------------- |\n",
    "| `count`        | Quantidade de valores não nulos                                |\n",
    "| `mean`         | Média (valor médio)                                            |\n",
    "| `std`          | Desvio padrão (dispersão dos dados)                            |\n",
    "| `min`          | Valor mínimo                                                   |\n",
    "| `25%`          | Primeiro quartil (Q1) – 25% dos dados estão abaixo desse valor |\n",
    "| `50%` (median) | Mediana – metade dos dados está abaixo                         |\n",
    "| `75%`          | Terceiro quartil (Q3) – 75% dos dados estão abaixo desse valor |\n",
    "| `max`          | Valor máximo                                                   |\n",
    "\n",
    "---\n",
    "\n",
    "**Pontos chave a serem observados para o pré-processamento:**\n",
    "\n",
    "- Valores Ausentes: Todas as colunas numéricas (e também as categóricas, como vimos com `base.info()`) possuem um pequeno número de valores ausentes. Precimsamos decidir a melhor estratégia para imputá-los.\n",
    "\n",
    "- Distribuição dos Dados: As médias e medianas estão geralmente próximas, sugerindo que as distribuições não são extremamente assimétricas para a maioria das colunas numéricas. Na sequencia, iremos visualizar com histogramas para confirmar.\n",
    "\n",
    "- Escala dos Dados: As colunas numéricas estão em escalas diferentes (e.g., Idade vai de 18-80, Colesterol de 150-300, etc.). Isso significa que, para muitos algoritmos de Machine Learning, será necessário realizar o escalonamento dos dados (padronização ou normalização) após a imputação de nulos."
   ]
  },
  {
   "cell_type": "markdown",
   "id": "8dd64094",
   "metadata": {},
   "source": [
    "---\n",
    "\n",
    "## Tratamento de dados\n",
    "\n",
    "\n",
    "#### Com base no base.info() sabemos que:\n",
    "\n",
    " - Colunas Numéricas (com nulos): `Age`, `Blood Pressure`, `Cholesterol Level`, `BMI`, `Sleep Hours`, `Triglyceride Level`, `Fasting Blood Sugar`, `CRP Level`, `Homocysteine Level`.\n",
    "\n",
    " - Colunas Categóricas (com nulos): `Gender`, `Exercise Habits`, `Smoking`, `Family Heart Disease`, `Diabetes`, `High Blood Pressure`, `Low HDL Cholesterol`, `High LDL Cholesterol`, `Alcohol Consumption`, `Stress Level`, `Sugar Consumption`.\n",
    "\n",
    " - Variável Alvo (sem nulos): Heart Disease Status.\n",
    "\n",
    "#### Estratégias de Imputação que vamos aplicar:\n",
    "\n",
    " - Para colunas numéricas: Imputação pela mediana. A mediana é mais robusta a outliers do que a média.\n",
    "\n",
    " - Para colunas categóricas: Imputação pela moda (o valor mais frequente)."
   ]
  },
  {
   "cell_type": "code",
   "execution_count": 6,
   "id": "d4d2f9cd",
   "metadata": {},
   "outputs": [
    {
     "name": "stdout",
     "output_type": "stream",
     "text": [
      "Contagem de valores nulos antes do tratamento (em base_tratada):\n",
      "Age                       29\n",
      "Gender                    19\n",
      "Blood Pressure            19\n",
      "Cholesterol Level         30\n",
      "Exercise Habits           25\n",
      "Smoking                   25\n",
      "Family Heart Disease      21\n",
      "Diabetes                  30\n",
      "BMI                       22\n",
      "High Blood Pressure       26\n",
      "Low HDL Cholesterol       25\n",
      "High LDL Cholesterol      26\n",
      "Alcohol Consumption     2586\n",
      "Stress Level              22\n",
      "Sleep Hours               25\n",
      "Sugar Consumption         30\n",
      "Triglyceride Level        26\n",
      "Fasting Blood Sugar       22\n",
      "CRP Level                 26\n",
      "Homocysteine Level        20\n",
      "Heart Disease Status       0\n",
      "dtype: int64\n"
     ]
    }
   ],
   "source": [
    "# Criando uma copia da base\n",
    "base_tratada = base.copy()\n",
    "print(\"Contagem de valores nulos antes do tratamento (em base_tratada):\")\n",
    "print(base_tratada.isnull().sum())"
   ]
  },
  {
   "cell_type": "markdown",
   "id": "19aae74d",
   "metadata": {},
   "source": [
    "Acima podemos entender que a coluna \"Alcohol Consumption\" tem 25% de linhas nulas, por ser um valor muito alto iremos removê-la."
   ]
  },
  {
   "cell_type": "code",
   "execution_count": 7,
   "id": "7d249441",
   "metadata": {},
   "outputs": [],
   "source": [
    "# Removendo coluna\n",
    "base_tratada = base_tratada.drop('Alcohol Consumption', axis=1)"
   ]
  },
  {
   "cell_type": "markdown",
   "id": "374c185a",
   "metadata": {},
   "source": [
    "#### 1. Imputação de Mediana para Colunas Numéricas \n",
    "\n",
    "Identificar colunas numéricas com nulos"
   ]
  },
  {
   "cell_type": "code",
   "execution_count": 8,
   "id": "eb00e44f",
   "metadata": {},
   "outputs": [
    {
     "name": "stdout",
     "output_type": "stream",
     "text": [
      "\n",
      "Imputando valores nulos em colunas numéricas com a mediana...\n",
      "  - Coluna 'Age': nulos preenchidos com a mediana (49.0).\n",
      "  - Coluna 'Blood Pressure': nulos preenchidos com a mediana (150.0).\n",
      "  - Coluna 'Cholesterol Level': nulos preenchidos com a mediana (226.0).\n",
      "  - Coluna 'BMI': nulos preenchidos com a mediana (29.079491590086043).\n",
      "  - Coluna 'Sleep Hours': nulos preenchidos com a mediana (7.003252334814371).\n",
      "  - Coluna 'Triglyceride Level': nulos preenchidos com a mediana (250.0).\n",
      "  - Coluna 'Fasting Blood Sugar': nulos preenchidos com a mediana (120.0).\n",
      "  - Coluna 'CRP Level': nulos preenchidos com a mediana (7.472164393020417).\n",
      "  - Coluna 'Homocysteine Level': nulos preenchidos com a mediana (12.409395381646618).\n"
     ]
    }
   ],
   "source": [
    "numerical_cols_with_na = base_tratada.select_dtypes(include=['float64', 'int64']).columns.tolist()\n",
    "\n",
    "print(\"\\nImputando valores nulos em colunas numéricas com a mediana...\")\n",
    "for col in numerical_cols_with_na:\n",
    "    if base_tratada[col].isnull().any():\n",
    "        median_val = base_tratada[col].median()\n",
    "        base_tratada[col] = base_tratada[col].fillna(median_val)\n",
    "        print(f\"  - Coluna '{col}': nulos preenchidos com a mediana ({median_val}).\")\n"
   ]
  },
  {
   "cell_type": "markdown",
   "id": "03b51201",
   "metadata": {},
   "source": [
    "#### 2. Imputação de Moda para Colunas Categóricas\n",
    "\n",
    "- Identificar colunas categóricas (object) com nulos\n",
    "- Excluir 'Heart Disease Status' pois sabemos que não tem nulos e é nossa variável alvo"
   ]
  },
  {
   "cell_type": "code",
   "execution_count": 9,
   "id": "ee95d0b3",
   "metadata": {},
   "outputs": [
    {
     "name": "stdout",
     "output_type": "stream",
     "text": [
      "\n",
      "Imputando valores nulos em colunas categóricas com a moda...\n",
      "  - Coluna 'Gender': nulos preenchidos com a moda ('Male').\n",
      "  - Coluna 'Exercise Habits': nulos preenchidos com a moda ('High').\n",
      "  - Coluna 'Smoking': nulos preenchidos com a moda ('Yes').\n",
      "  - Coluna 'Family Heart Disease': nulos preenchidos com a moda ('No').\n",
      "  - Coluna 'Diabetes': nulos preenchidos com a moda ('No').\n",
      "  - Coluna 'High Blood Pressure': nulos preenchidos com a moda ('Yes').\n",
      "  - Coluna 'Low HDL Cholesterol': nulos preenchidos com a moda ('Yes').\n",
      "  - Coluna 'High LDL Cholesterol': nulos preenchidos com a moda ('No').\n",
      "  - Coluna 'Stress Level': nulos preenchidos com a moda ('Medium').\n",
      "  - Coluna 'Sugar Consumption': nulos preenchidos com a moda ('Low').\n"
     ]
    }
   ],
   "source": [
    "categorical_cols_with_na = base_tratada.select_dtypes(include='object').columns.tolist()\n",
    "categorical_cols_with_na.remove('Heart Disease Status')\n",
    "\n",
    "print(\"\\nImputando valores nulos em colunas categóricas com a moda...\")\n",
    "for col in categorical_cols_with_na:\n",
    "    if base_tratada[col].isnull().any(): \n",
    "        mode_val = base_tratada[col].mode()[0]\n",
    "        base_tratada[col] = base_tratada[col].fillna(mode_val)\n",
    "        print(f\"  - Coluna '{col}': nulos preenchidos com a moda ('{mode_val}').\")\n"
   ]
  },
  {
   "cell_type": "markdown",
   "id": "748663ba",
   "metadata": {},
   "source": [
    "#### Verificação final após a imputação"
   ]
  },
  {
   "cell_type": "code",
   "execution_count": 10,
   "id": "c315e5ca",
   "metadata": {},
   "outputs": [
    {
     "data": {
      "text/html": [
       "<div>\n",
       "<style scoped>\n",
       "    .dataframe tbody tr th:only-of-type {\n",
       "        vertical-align: middle;\n",
       "    }\n",
       "\n",
       "    .dataframe tbody tr th {\n",
       "        vertical-align: top;\n",
       "    }\n",
       "\n",
       "    .dataframe thead th {\n",
       "        text-align: right;\n",
       "    }\n",
       "</style>\n",
       "<table border=\"1\" class=\"dataframe\">\n",
       "  <thead>\n",
       "    <tr style=\"text-align: right;\">\n",
       "      <th></th>\n",
       "      <th>Age</th>\n",
       "      <th>Gender</th>\n",
       "      <th>Blood Pressure</th>\n",
       "      <th>Cholesterol Level</th>\n",
       "      <th>Exercise Habits</th>\n",
       "      <th>Smoking</th>\n",
       "      <th>Family Heart Disease</th>\n",
       "      <th>Diabetes</th>\n",
       "      <th>BMI</th>\n",
       "      <th>High Blood Pressure</th>\n",
       "      <th>Low HDL Cholesterol</th>\n",
       "      <th>High LDL Cholesterol</th>\n",
       "      <th>Stress Level</th>\n",
       "      <th>Sleep Hours</th>\n",
       "      <th>Sugar Consumption</th>\n",
       "      <th>Triglyceride Level</th>\n",
       "      <th>Fasting Blood Sugar</th>\n",
       "      <th>CRP Level</th>\n",
       "      <th>Homocysteine Level</th>\n",
       "      <th>Heart Disease Status</th>\n",
       "    </tr>\n",
       "  </thead>\n",
       "  <tbody>\n",
       "    <tr>\n",
       "      <th>0</th>\n",
       "      <td>56.0</td>\n",
       "      <td>Male</td>\n",
       "      <td>153.0</td>\n",
       "      <td>155.0</td>\n",
       "      <td>High</td>\n",
       "      <td>Yes</td>\n",
       "      <td>Yes</td>\n",
       "      <td>No</td>\n",
       "      <td>24.991591</td>\n",
       "      <td>Yes</td>\n",
       "      <td>Yes</td>\n",
       "      <td>No</td>\n",
       "      <td>Medium</td>\n",
       "      <td>7.633228</td>\n",
       "      <td>Medium</td>\n",
       "      <td>342.0</td>\n",
       "      <td>120.0</td>\n",
       "      <td>12.969246</td>\n",
       "      <td>12.387250</td>\n",
       "      <td>No</td>\n",
       "    </tr>\n",
       "    <tr>\n",
       "      <th>1</th>\n",
       "      <td>69.0</td>\n",
       "      <td>Female</td>\n",
       "      <td>146.0</td>\n",
       "      <td>286.0</td>\n",
       "      <td>High</td>\n",
       "      <td>No</td>\n",
       "      <td>Yes</td>\n",
       "      <td>Yes</td>\n",
       "      <td>25.221799</td>\n",
       "      <td>No</td>\n",
       "      <td>Yes</td>\n",
       "      <td>No</td>\n",
       "      <td>High</td>\n",
       "      <td>8.744034</td>\n",
       "      <td>Medium</td>\n",
       "      <td>133.0</td>\n",
       "      <td>157.0</td>\n",
       "      <td>9.355389</td>\n",
       "      <td>19.298875</td>\n",
       "      <td>No</td>\n",
       "    </tr>\n",
       "    <tr>\n",
       "      <th>2</th>\n",
       "      <td>46.0</td>\n",
       "      <td>Male</td>\n",
       "      <td>126.0</td>\n",
       "      <td>216.0</td>\n",
       "      <td>Low</td>\n",
       "      <td>No</td>\n",
       "      <td>No</td>\n",
       "      <td>No</td>\n",
       "      <td>29.855447</td>\n",
       "      <td>No</td>\n",
       "      <td>Yes</td>\n",
       "      <td>Yes</td>\n",
       "      <td>Low</td>\n",
       "      <td>4.440440</td>\n",
       "      <td>Low</td>\n",
       "      <td>393.0</td>\n",
       "      <td>92.0</td>\n",
       "      <td>12.709873</td>\n",
       "      <td>11.230926</td>\n",
       "      <td>No</td>\n",
       "    </tr>\n",
       "    <tr>\n",
       "      <th>3</th>\n",
       "      <td>32.0</td>\n",
       "      <td>Female</td>\n",
       "      <td>122.0</td>\n",
       "      <td>293.0</td>\n",
       "      <td>High</td>\n",
       "      <td>Yes</td>\n",
       "      <td>Yes</td>\n",
       "      <td>No</td>\n",
       "      <td>24.130477</td>\n",
       "      <td>Yes</td>\n",
       "      <td>No</td>\n",
       "      <td>Yes</td>\n",
       "      <td>High</td>\n",
       "      <td>5.249405</td>\n",
       "      <td>High</td>\n",
       "      <td>293.0</td>\n",
       "      <td>94.0</td>\n",
       "      <td>12.509046</td>\n",
       "      <td>5.961958</td>\n",
       "      <td>No</td>\n",
       "    </tr>\n",
       "    <tr>\n",
       "      <th>4</th>\n",
       "      <td>60.0</td>\n",
       "      <td>Male</td>\n",
       "      <td>166.0</td>\n",
       "      <td>242.0</td>\n",
       "      <td>Low</td>\n",
       "      <td>Yes</td>\n",
       "      <td>Yes</td>\n",
       "      <td>Yes</td>\n",
       "      <td>20.486289</td>\n",
       "      <td>Yes</td>\n",
       "      <td>No</td>\n",
       "      <td>No</td>\n",
       "      <td>High</td>\n",
       "      <td>7.030971</td>\n",
       "      <td>High</td>\n",
       "      <td>263.0</td>\n",
       "      <td>154.0</td>\n",
       "      <td>10.381259</td>\n",
       "      <td>8.153887</td>\n",
       "      <td>No</td>\n",
       "    </tr>\n",
       "  </tbody>\n",
       "</table>\n",
       "</div>"
      ],
      "text/plain": [
       "    Age  Gender  Blood Pressure  Cholesterol Level Exercise Habits Smoking  \\\n",
       "0  56.0    Male           153.0              155.0            High     Yes   \n",
       "1  69.0  Female           146.0              286.0            High      No   \n",
       "2  46.0    Male           126.0              216.0             Low      No   \n",
       "3  32.0  Female           122.0              293.0            High     Yes   \n",
       "4  60.0    Male           166.0              242.0             Low     Yes   \n",
       "\n",
       "  Family Heart Disease Diabetes        BMI High Blood Pressure  \\\n",
       "0                  Yes       No  24.991591                 Yes   \n",
       "1                  Yes      Yes  25.221799                  No   \n",
       "2                   No       No  29.855447                  No   \n",
       "3                  Yes       No  24.130477                 Yes   \n",
       "4                  Yes      Yes  20.486289                 Yes   \n",
       "\n",
       "  Low HDL Cholesterol High LDL Cholesterol Stress Level  Sleep Hours  \\\n",
       "0                 Yes                   No       Medium     7.633228   \n",
       "1                 Yes                   No         High     8.744034   \n",
       "2                 Yes                  Yes          Low     4.440440   \n",
       "3                  No                  Yes         High     5.249405   \n",
       "4                  No                   No         High     7.030971   \n",
       "\n",
       "  Sugar Consumption  Triglyceride Level  Fasting Blood Sugar  CRP Level  \\\n",
       "0            Medium               342.0                120.0  12.969246   \n",
       "1            Medium               133.0                157.0   9.355389   \n",
       "2               Low               393.0                 92.0  12.709873   \n",
       "3              High               293.0                 94.0  12.509046   \n",
       "4              High               263.0                154.0  10.381259   \n",
       "\n",
       "   Homocysteine Level Heart Disease Status  \n",
       "0           12.387250                   No  \n",
       "1           19.298875                   No  \n",
       "2           11.230926                   No  \n",
       "3            5.961958                   No  \n",
       "4            8.153887                   No  "
      ]
     },
     "execution_count": 10,
     "metadata": {},
     "output_type": "execute_result"
    }
   ],
   "source": [
    "base_tratada.head()"
   ]
  },
  {
   "cell_type": "code",
   "execution_count": 11,
   "id": "5d13b3ab",
   "metadata": {},
   "outputs": [
    {
     "name": "stdout",
     "output_type": "stream",
     "text": [
      "Contagem de valores nulos após o tratamento:\n",
      "Age                     0\n",
      "Gender                  0\n",
      "Blood Pressure          0\n",
      "Cholesterol Level       0\n",
      "Exercise Habits         0\n",
      "Smoking                 0\n",
      "Family Heart Disease    0\n",
      "Diabetes                0\n",
      "BMI                     0\n",
      "High Blood Pressure     0\n",
      "Low HDL Cholesterol     0\n",
      "High LDL Cholesterol    0\n",
      "Stress Level            0\n",
      "Sleep Hours             0\n",
      "Sugar Consumption       0\n",
      "Triglyceride Level      0\n",
      "Fasting Blood Sugar     0\n",
      "CRP Level               0\n",
      "Homocysteine Level      0\n",
      "Heart Disease Status    0\n",
      "dtype: int64\n",
      "\n",
      "Tipos de dados das colunas:\n",
      "<class 'pandas.core.frame.DataFrame'>\n",
      "RangeIndex: 10000 entries, 0 to 9999\n",
      "Data columns (total 20 columns):\n",
      " #   Column                Non-Null Count  Dtype  \n",
      "---  ------                --------------  -----  \n",
      " 0   Age                   10000 non-null  float64\n",
      " 1   Gender                10000 non-null  object \n",
      " 2   Blood Pressure        10000 non-null  float64\n",
      " 3   Cholesterol Level     10000 non-null  float64\n",
      " 4   Exercise Habits       10000 non-null  object \n",
      " 5   Smoking               10000 non-null  object \n",
      " 6   Family Heart Disease  10000 non-null  object \n",
      " 7   Diabetes              10000 non-null  object \n",
      " 8   BMI                   10000 non-null  float64\n",
      " 9   High Blood Pressure   10000 non-null  object \n",
      " 10  Low HDL Cholesterol   10000 non-null  object \n",
      " 11  High LDL Cholesterol  10000 non-null  object \n",
      " 12  Stress Level          10000 non-null  object \n",
      " 13  Sleep Hours           10000 non-null  float64\n",
      " 14  Sugar Consumption     10000 non-null  object \n",
      " 15  Triglyceride Level    10000 non-null  float64\n",
      " 16  Fasting Blood Sugar   10000 non-null  float64\n",
      " 17  CRP Level             10000 non-null  float64\n",
      " 18  Homocysteine Level    10000 non-null  float64\n",
      " 19  Heart Disease Status  10000 non-null  object \n",
      "dtypes: float64(9), object(11)\n",
      "memory usage: 1.5+ MB\n",
      "None\n",
      "\n",
      "Valores únicos em colunas categóricas selecionadas após imputação:\n",
      "['Male' 'Female']\n",
      "['High' 'Low' 'Medium']\n",
      "['No' 'Yes']\n"
     ]
    }
   ],
   "source": [
    "# Verificação 1: Contagem de valores nulos\n",
    "print(\"Contagem de valores nulos após o tratamento:\")\n",
    "print(base_tratada.isnull().sum())\n",
    "\n",
    "# Verificação 2: Tipos de dados (após imputação)\n",
    "print(\"\\nTipos de dados das colunas:\")\n",
    "print(base_tratada.info())\n",
    "\n",
    "# Verificação 3: Valores únicos para algumas colunas categóricas (opcional, mas útil)\n",
    "print(\"\\nValores únicos em colunas categóricas selecionadas após imputação:\")\n",
    "print(base_tratada['Gender'].unique())\n",
    "print(base_tratada['Exercise Habits'].unique())\n",
    "print(base_tratada['Heart Disease Status'].unique())"
   ]
  },
  {
   "cell_type": "markdown",
   "id": "b542f4fb",
   "metadata": {},
   "source": [
    "---\n",
    "\n",
    "## Análise gráfica"
   ]
  },
  {
   "cell_type": "code",
   "execution_count": 48,
   "id": "bd58af2b",
   "metadata": {},
   "outputs": [
    {
     "data": {
      "image/png": "[encoded data removed]",
      "text/plain": [
       "<Figure size 600x400 with 1 Axes>"
      ]
     },
     "metadata": {},
     "output_type": "display_data"
    },
    {
     "name": "stdout",
     "output_type": "stream",
     "text": [
      "Heart Disease Status\n",
      "No     8000\n",
      "Yes    2000\n",
      "Name: count, dtype: int64\n"
     ]
    }
   ],
   "source": [
    "# --- 1. Gráfico da Variável Alvo ---\n",
    "plt.figure(figsize=(6, 4))\n",
    "sns.countplot(x='Heart Disease Status', data=base)\n",
    "plt.title('Distribuição do Status de Doença Cardíaca')\n",
    "plt.xlabel('Doença Cardíaca (Sim/Não)')\n",
    "plt.ylabel('Contagem de Indivíduos')\n",
    "plt.show()\n",
    "print(base['Heart Disease Status'].value_counts())"
   ]
  },
  {
   "cell_type": "code",
   "execution_count": 49,
   "id": "d1c760ed",
   "metadata": {},
   "outputs": [
    {
     "data": {
      "image/png": "[encoded data removed]",
      "text/plain": [
       "<Figure size 600x400 with 1 Axes>"
      ]
     },
     "metadata": {},
     "output_type": "display_data"
    },
    {
     "name": "stdout",
     "output_type": "stream",
     "text": [
      "Gender\n",
      "Male      5003\n",
      "Female    4978\n",
      "Name: count, dtype: int64\n"
     ]
    }
   ],
   "source": [
    "# --- 2. Gráfico de Gênero ---\n",
    "plt.figure(figsize=(6, 4))\n",
    "sns.countplot(x='Gender', data=base)\n",
    "plt.title('Distribuição de Gênero')\n",
    "plt.xlabel('Homem / Mulher')\n",
    "plt.ylabel('Contagem de Indivíduos')\n",
    "plt.show()\n",
    "print(base['Gender'].value_counts())"
   ]
  },
  {
   "cell_type": "code",
   "execution_count": 52,
   "id": "516f3607",
   "metadata": {},
   "outputs": [
    {
     "data": {
      "image/png": "[encoded data removed]",
      "text/plain": [
       "<Figure size 600x400 with 1 Axes>"
      ]
     },
     "metadata": {},
     "output_type": "display_data"
    },
    {
     "name": "stdout",
     "output_type": "stream",
     "text": [
      "Exercise Habits\n",
      "High      3372\n",
      "Medium    3332\n",
      "Low       3271\n",
      "Name: count, dtype: int64\n"
     ]
    }
   ],
   "source": [
    "# --- 3. Gráfico de Hábitos de exercício ---\n",
    "plt.figure(figsize=(6, 4))\n",
    "sns.countplot(x='Exercise Habits', data=base)\n",
    "plt.title('Distribuição de Hábitos de exercício')\n",
    "plt.xlabel('Alto / Baixo / Médio')\n",
    "plt.ylabel('Contagem de Indivíduos')\n",
    "plt.show()\n",
    "print(base['Exercise Habits'].value_counts())"
   ]
  },
  {
   "cell_type": "code",
   "execution_count": 55,
   "id": "b66d7ef4",
   "metadata": {},
   "outputs": [
    {
     "data": {
      "image/png": "[encoded data removed]",
      "text/plain": [
       "<Figure size 600x400 with 1 Axes>"
      ]
     },
     "metadata": {},
     "output_type": "display_data"
    },
    {
     "name": "stdout",
     "output_type": "stream",
     "text": [
      "Smoking\n",
      "Yes    5123\n",
      "No     4852\n",
      "Name: count, dtype: int64\n"
     ]
    }
   ],
   "source": [
    "# --- 3. Gráfico de Hábitos de exercício ---\n",
    "plt.figure(figsize=(6, 4))\n",
    "sns.countplot(x='Smoking', data=base)\n",
    "plt.title('Distribuição de Fumantes')\n",
    "plt.xlabel('Sim / Não')\n",
    "plt.ylabel('Contagem de Indivíduos')\n",
    "plt.show()\n",
    "print(base['Smoking'].value_counts())"
   ]
  },
  {
   "cell_type": "code",
   "execution_count": 60,
   "id": "c83a05ef",
   "metadata": {},
   "outputs": [
    {
     "data": {
      "image/png": "[encoded data removed]",
      "text/plain": [
       "<Figure size 1200x600 with 1 Axes>"
      ]
     },
     "metadata": {},
     "output_type": "display_data"
    },
    {
     "data": {
      "image/png": "[encoded data removed]",
      "text/plain": [
       "<Figure size 1200x600 with 1 Axes>"
      ]
     },
     "metadata": {},
     "output_type": "display_data"
    },
    {
     "data": {
      "image/png": "[encoded data removed]",
      "text/plain": [
       "<Figure size 1200x600 with 1 Axes>"
      ]
     },
     "metadata": {},
     "output_type": "display_data"
    },
    {
     "data": {
      "image/png": "[encoded data removed]",
      "text/plain": [
       "<Figure size 1200x600 with 1 Axes>"
      ]
     },
     "metadata": {},
     "output_type": "display_data"
    },
    {
     "data": {
      "image/png": "[encoded data removed]",
      "text/plain": [
       "<Figure size 1200x600 with 1 Axes>"
      ]
     },
     "metadata": {},
     "output_type": "display_data"
    }
   ],
   "source": [
    "# --- 4. Relação entre Variáveis Numéricas e a Variável Alvo (Boxplots Divididos) ---\n",
    "# Escolha algumas colunas numéricas para comparar com 'Heart Disease Status'\n",
    "numerical_cols_for_relation_plot = ['Smoking', 'Gender', 'Exercise Habits', 'Cholesterol Level', 'Blood Pressure']\n",
    "\n",
    "for col in numerical_cols_for_relation_plot:\n",
    "    plt.figure(figsize=(12, 6))\n",
    "    sns.countplot(data=base, x=col, hue='Heart Disease Status')\n",
    "    plt.title('Cruzamento de informação com Doença Cardíaca')\n",
    "    plt.xlabel(col)\n",
    "    plt.ylabel('Contagem')\n",
    "    plt.legend(title='Status da Doença Cardíaca')\n",
    "    plt.show()"
   ]
  },
  {
   "cell_type": "markdown",
   "id": "8b85fc56",
   "metadata": {},
   "source": [
    "#### Iniciando a conversão de variáveis categóricas para numéricas"
   ]
  },
  {
   "cell_type": "code",
   "execution_count": 13,
   "id": "43d2cfe6",
   "metadata": {},
   "outputs": [
    {
     "name": "stdout",
     "output_type": "stream",
     "text": [
      "  - 'Heart Disease Status' convertido para 0/1.\n",
      "  - 'Smoking' convertido para 0/1 (No=0, Yes=1).\n",
      "  - 'Family Heart Disease' convertido para 0/1 (No=0, Yes=1).\n",
      "  - 'Diabetes' convertido para 0/1 (No=0, Yes=1).\n",
      "  - 'High Blood Pressure' convertido para 0/1 (No=0, Yes=1).\n",
      "  - 'Low HDL Cholesterol' convertido para 0/1 (No=0, Yes=1).\n",
      "  - 'High LDL Cholesterol' convertido para 0/1 (No=0, Yes=1).\n",
      "  - 'Gender' convertido para 0/1 (Female=0, Male=1).\n",
      "  - 'Exercise Habits' convertido para 0/1/2 (Low=0, Medium=1, High=2).\n",
      "  - 'Stress Level' convertido para 0/1/2.\n",
      "  - 'Sugar Consumption' convertido para 0/1/2.\n",
      "\n",
      "Tipos de dados após a conversão de categóricas:\n",
      "<class 'pandas.core.frame.DataFrame'>\n",
      "RangeIndex: 10000 entries, 0 to 9999\n",
      "Data columns (total 20 columns):\n",
      " #   Column                Non-Null Count  Dtype  \n",
      "---  ------                --------------  -----  \n",
      " 0   Age                   10000 non-null  float64\n",
      " 1   Gender                10000 non-null  int64  \n",
      " 2   Blood Pressure        10000 non-null  float64\n",
      " 3   Cholesterol Level     10000 non-null  float64\n",
      " 4   Exercise Habits       10000 non-null  int64  \n",
      " 5   Smoking               10000 non-null  int64  \n",
      " 6   Family Heart Disease  10000 non-null  int64  \n",
      " 7   Diabetes              10000 non-null  int64  \n",
      " 8   BMI                   10000 non-null  float64\n",
      " 9   High Blood Pressure   10000 non-null  int64  \n",
      " 10  Low HDL Cholesterol   10000 non-null  int64  \n",
      " 11  High LDL Cholesterol  10000 non-null  int64  \n",
      " 12  Stress Level          10000 non-null  int64  \n",
      " 13  Sleep Hours           10000 non-null  float64\n",
      " 14  Sugar Consumption     10000 non-null  int64  \n",
      " 15  Triglyceride Level    10000 non-null  float64\n",
      " 16  Fasting Blood Sugar   10000 non-null  float64\n",
      " 17  CRP Level             10000 non-null  float64\n",
      " 18  Homocysteine Level    10000 non-null  float64\n",
      " 19  Heart Disease Status  10000 non-null  int64  \n",
      "dtypes: float64(9), int64(11)\n",
      "memory usage: 1.5 MB\n",
      "None\n"
     ]
    }
   ],
   "source": [
    "# Mapeamento da variável alvo 'Heart Disease Status'\n",
    "# É crucial que sua variável alvo seja numérica para modelagem\n",
    "base_tratada['Heart Disease Status'] = base_tratada['Heart Disease Status'].map({'No': 0, 'Yes': 1})\n",
    "print(\"  - 'Heart Disease Status' convertido para 0/1.\")\n",
    "\n",
    "# Mapeamento de variáveis binárias Sim/Não\n",
    "binary_cols_yes_no = ['Smoking', 'Family Heart Disease', 'Diabetes', 'High Blood Pressure', 'Low HDL Cholesterol', 'High LDL Cholesterol']\n",
    "for col in binary_cols_yes_no:\n",
    "    base_tratada[col] = base_tratada[col].map({'No': 0, 'Yes': 1})\n",
    "    print(f\"  - '{col}' convertido para 0/1 (No=0, Yes=1).\")\n",
    "\n",
    "# Mapeamento da variável 'Gender' (binária)\n",
    "base_tratada['Gender'] = base_tratada['Gender'].map({'Female': 0, 'Male': 1})\n",
    "print(\"  - 'Gender' convertido para 0/1 (Female=0, Male=1).\")\n",
    "\n",
    "# Mapeamento de variáveis ordinais (Low, Medium, High ou None, Low, Medium, High)\n",
    "# Exercise Habits: Low, Medium, High\n",
    "base_tratada['Exercise Habits'] = base_tratada['Exercise Habits'].map({'Low': 0, 'Medium': 1, 'High': 2})\n",
    "print(\"  - 'Exercise Habits' convertido para 0/1/2 (Low=0, Medium=1, High=2).\")\n",
    "\n",
    "# Stress Level: Low, Medium, High\n",
    "base_tratada['Stress Level'] = base_tratada['Stress Level'].map({'Low': 0, 'Medium': 1, 'High': 2})\n",
    "print(\"  - 'Stress Level' convertido para 0/1/2.\")\n",
    "\n",
    "# Sugar Consumption: Low, Medium, High\n",
    "base_tratada['Sugar Consumption'] = base_tratada['Sugar Consumption'].map({'Low': 0, 'Medium': 1, 'High': 2})\n",
    "print(\"  - 'Sugar Consumption' convertido para 0/1/2.\")\n",
    "\n",
    "\n",
    "# Verificação final dos tipos de dados após as conversões\n",
    "print(\"\\nTipos de dados após a conversão de categóricas:\")\n",
    "print(base_tratada.info())"
   ]
  },
  {
   "cell_type": "code",
   "execution_count": 14,
   "id": "48241d3f",
   "metadata": {},
   "outputs": [
    {
     "data": {
      "text/plain": [
       "Age                       63\n",
       "Gender                     2\n",
       "Blood Pressure            61\n",
       "Cholesterol Level        151\n",
       "Exercise Habits            3\n",
       "Smoking                    2\n",
       "Family Heart Disease       2\n",
       "Diabetes                   2\n",
       "BMI                     9979\n",
       "High Blood Pressure        2\n",
       "Low HDL Cholesterol        2\n",
       "High LDL Cholesterol       2\n",
       "Stress Level               3\n",
       "Sleep Hours             9975\n",
       "Sugar Consumption          3\n",
       "Triglyceride Level       301\n",
       "Fasting Blood Sugar       81\n",
       "CRP Level               9975\n",
       "Homocysteine Level      9981\n",
       "Heart Disease Status       2\n",
       "dtype: int64"
      ]
     },
     "execution_count": 14,
     "metadata": {},
     "output_type": "execute_result"
    }
   ],
   "source": [
    "# Verificando a generalização dos dados\n",
    "base_tratada.nunique()"
   ]
  },
  {
   "cell_type": "markdown",
   "id": "6dee3dcd",
   "metadata": {},
   "source": [
    "Aqui podemos conferir que as colunas (BMI, Sleep Hours, CRP Level, Homocysteine Level) estão muito generalistas, o que pode atrapalhar o modelo, por este motivo iremos removê-las."
   ]
  },
  {
   "cell_type": "code",
   "execution_count": 15,
   "id": "94f66c05",
   "metadata": {},
   "outputs": [
    {
     "data": {
      "text/plain": [
       "Age                      63\n",
       "Gender                    2\n",
       "Blood Pressure           61\n",
       "Cholesterol Level       151\n",
       "Exercise Habits           3\n",
       "Smoking                   2\n",
       "Family Heart Disease      2\n",
       "Diabetes                  2\n",
       "High Blood Pressure       2\n",
       "Low HDL Cholesterol       2\n",
       "High LDL Cholesterol      2\n",
       "Stress Level              3\n",
       "Sugar Consumption         3\n",
       "Triglyceride Level      301\n",
       "Fasting Blood Sugar      81\n",
       "Heart Disease Status      2\n",
       "dtype: int64"
      ]
     },
     "execution_count": 15,
     "metadata": {},
     "output_type": "execute_result"
    }
   ],
   "source": [
    "# removendo colunas muito generalistas\n",
    "base_tratada = base_tratada.drop(['BMI', 'Sleep Hours', 'CRP Level', 'Homocysteine Level'], axis=1)\n",
    "base_tratada.nunique()"
   ]
  },
  {
   "cell_type": "code",
   "execution_count": 16,
   "id": "ef192ca7",
   "metadata": {},
   "outputs": [],
   "source": [
    "# sns.pairplot(base,hue='Heart Disease Status')"
   ]
  },
  {
   "cell_type": "code",
   "execution_count": 17,
   "id": "1cfc1e10",
   "metadata": {},
   "outputs": [],
   "source": [
    "# sns.heatmap(base_tratada.corr())"
   ]
  },
  {
   "cell_type": "markdown",
   "id": "35d7c218",
   "metadata": {},
   "source": [
    "---\n",
    "\n",
    "## Análise detalhada utilizando Pandas Profiling"
   ]
  },
  {
   "cell_type": "code",
   "execution_count": 18,
   "id": "897136fd",
   "metadata": {},
   "outputs": [
    {
     "name": "stderr",
     "output_type": "stream",
     "text": [
      "100%|██████████| 16/16 [00:00<00:00, 40017.21it/s]0:00, 103.73it/s, Describe variable: Heart Disease Status]\n",
      "Summarize dataset: 100%|██████████| 50/50 [00:01<00:00, 28.03it/s, Completed]                                       \n",
      "Generate report structure: 100%|██████████| 1/1 [00:01<00:00,  1.19s/it]\n",
      "Render HTML: 100%|██████████| 1/1 [00:00<00:00,  1.86it/s]\n",
      "Export report to file: 100%|██████████| 1/1 [00:00<00:00, 337.95it/s]\n"
     ]
    }
   ],
   "source": [
    "profile = ProfileReport(base_tratada, title=\"Relatório de Análise de Doença Cardíaca\")\n",
    "# profile.to_notebook_iframe()\n",
    "profile.to_file(\"../../docs/heart_disease_report.html\")\n"
   ]
  },
  {
   "cell_type": "code",
   "execution_count": 19,
   "id": "7ac077b7",
   "metadata": {},
   "outputs": [],
   "source": [
    "# quebrando o dataset em treino e teste\n",
    "from sklearn.model_selection import train_test_split\n",
    "\n",
    "X = base_tratada.drop('Heart Disease Status', axis=1)\n",
    "y = base_tratada['Heart Disease Status']\n",
    "\n",
    "x_treino, X_teste, y_treino, y_teste = train_test_split(X, y, test_size=0.2, random_state=42)\n",
    "\n",
    "#importando os modelos de machine learning e as métricas de avaliação\n",
    "from sklearn.neighbors import KNeighborsClassifier\n",
    "from sklearn.tree import DecisionTreeClassifier\n",
    "from sklearn.linear_model import LogisticRegression\n",
    "from sklearn.metrics import accuracy_score, precision_score, confusion_matrix, recall_score"
   ]
  },
  {
   "cell_type": "code",
   "execution_count": 20,
   "id": "eed63fec",
   "metadata": {},
   "outputs": [
    {
     "name": "stdout",
     "output_type": "stream",
     "text": [
      "Score KNN: 0.81\n"
     ]
    }
   ],
   "source": [
    "# treinando o modelo KNN\n",
    "knn = KNeighborsClassifier(n_neighbors=5)\n",
    "knn.fit(x_treino, y_treino)\n",
    "print(f\"Score KNN: {knn.score(x_treino, y_treino):.2f}\")"
   ]
  },
  {
   "cell_type": "code",
   "execution_count": 21,
   "id": "3ef458ae",
   "metadata": {},
   "outputs": [
    {
     "name": "stdout",
     "output_type": "stream",
     "text": [
      "Score árvore de decisão: 1.00\n"
     ]
    }
   ],
   "source": [
    "# treinando o modelo árvore de decisão\n",
    "rfc = DecisionTreeClassifier(random_state=42)\n",
    "rfc.fit(x_treino, y_treino)\n",
    "print(f\"Score árvore de decisão: {rfc.score(x_treino, y_treino):.2f}\")"
   ]
  },
  {
   "cell_type": "code",
   "execution_count": 22,
   "id": "cf5cb527",
   "metadata": {},
   "outputs": [
    {
     "name": "stdout",
     "output_type": "stream",
     "text": [
      "Score Regressão Logística: 0.80\n"
     ]
    }
   ],
   "source": [
    "# treinando o modelo de regressão logística\n",
    "lr = LogisticRegression(random_state=42, max_iter=1000)\n",
    "lr.fit(x_treino, y_treino)\n",
    "print(f\"Score Regressão Logística: {lr.score(x_treino, y_treino):.2f}\")"
   ]
  },
  {
   "cell_type": "markdown",
   "id": "fcaa3823",
   "metadata": {},
   "source": [
    "Acima podemos verificar o treinamento dos modelos utilizando o score, que indica a precisão do modelo nos dados de treino."
   ]
  },
  {
   "cell_type": "code",
   "execution_count": 23,
   "id": "c195be90",
   "metadata": {},
   "outputs": [],
   "source": [
    "# testando os modelos\n",
    "knn_pred = knn.predict(X_teste)\n",
    "rfc_pred = rfc.predict(X_teste)\n",
    "lr_pred = lr.predict(X_teste)"
   ]
  },
  {
   "cell_type": "code",
   "execution_count": 24,
   "id": "b6611163",
   "metadata": {},
   "outputs": [
    {
     "name": "stdout",
     "output_type": "stream",
     "text": [
      "Matrix Confusão KNN: [[1513  100]\n",
      " [ 366   21]]\n",
      "Matrix Confusão Decision Tree: [[1277  336]\n",
      " [ 302   85]]\n",
      "Matrix Confusão Logistic Regression: [[1613    0]\n",
      " [ 387    0]]\n"
     ]
    }
   ],
   "source": [
    "# avaliando os modelos pela matriz de confusão\n",
    "print(f\"Matrix Confusão KNN: {confusion_matrix(y_teste, knn_pred)}\")\n",
    "print(f\"Matrix Confusão Decision Tree: {confusion_matrix(y_teste, rfc_pred)}\")\n",
    "print(f\"Matrix Confusão Logistic Regression: {confusion_matrix(y_teste, lr_pred)}\")"
   ]
  },
  {
   "cell_type": "code",
   "execution_count": null,
   "id": "fd188edc",
   "metadata": {},
   "outputs": [],
   "source": []
  },
  {
   "cell_type": "markdown",
   "id": "d72a1e72",
   "metadata": {},
   "source": [
    "Olhando pelo ponto de vista da matriz de confusão, podemos entender que o melhor modelo é a árvore de decisão, pois ele conseguiu prever mais pessoas com risco de infarto, que é o que queremos prever."
   ]
  },
  {
   "cell_type": "code",
   "execution_count": 25,
   "id": "43214a03",
   "metadata": {},
   "outputs": [
    {
     "name": "stdout",
     "output_type": "stream",
     "text": [
      "Acurácia KNN: 0.77\n",
      "Acurácia Decision Tree: 0.68\n",
      "Acurácia Logistic Regression: 0.81\n"
     ]
    }
   ],
   "source": [
    "# avaliando os modelos pela acurácia\n",
    "print(f\"Acurácia KNN: {accuracy_score(y_teste, knn_pred):.2f}\")\n",
    "print(f\"Acurácia Decision Tree: {accuracy_score(y_teste, rfc_pred):.2f}\")\n",
    "print(f\"Acurácia Logistic Regression: {accuracy_score(y_teste, lr_pred):.2f}\")"
   ]
  },
  {
   "cell_type": "markdown",
   "id": "be4a1db0",
   "metadata": {},
   "source": [
    "Pela acurácia podemos observar que o modelo que teve mais acertos foi de Regressão Logistica"
   ]
  },
  {
   "cell_type": "code",
   "execution_count": 26,
   "id": "1ca3ea25",
   "metadata": {},
   "outputs": [
    {
     "name": "stdout",
     "output_type": "stream",
     "text": [
      "Precisão KNN: 0.17\n",
      "Precisão Decision Tree: 0.20\n",
      "Precisão Logistic Regression: 0.00\n"
     ]
    },
    {
     "name": "stderr",
     "output_type": "stream",
     "text": [
      "/Users/antoniorafael/workspace/Personal/ai/pos/tech-challenge/venv/lib/python3.10/site-packages/sklearn/metrics/_classification.py:1706: UndefinedMetricWarning: Precision is ill-defined and being set to 0.0 due to no predicted samples. Use `zero_division` parameter to control this behavior.\n",
      "  _warn_prf(average, modifier, f\"{metric.capitalize()} is\", result.shape[0])\n"
     ]
    }
   ],
   "source": [
    "# avaliando os modelos pela presisão\n",
    "print(f\"Precisão KNN: {precision_score(y_teste, knn_pred):.2f}\")\n",
    "print(f\"Precisão Decision Tree: {precision_score(y_teste, rfc_pred):.2f}\")\n",
    "print(f\"Precisão Logistic Regression: {precision_score(y_teste, lr_pred):.2f}\")"
   ]
  },
  {
   "cell_type": "markdown",
   "id": "a5812bc0",
   "metadata": {},
   "source": [
    "Acima conseguimos confirmar que até o momento o modelo de árvore de decisão continua sendo o melhor modelo para o que queremos prever."
   ]
  },
  {
   "cell_type": "code",
   "execution_count": 27,
   "id": "5171b819",
   "metadata": {},
   "outputs": [
    {
     "name": "stdout",
     "output_type": "stream",
     "text": [
      "Recall KNN: 0.05\n",
      "Recall Decision Tree: 0.22\n",
      "Recall Logistic Regression: 0.00\n"
     ]
    }
   ],
   "source": [
    "# avaliando os modelos pelo recall\n",
    "print(f\"Recall KNN: {recall_score(y_teste, knn_pred):.2f}\")\n",
    "print(f\"Recall Decision Tree: {recall_score(y_teste, rfc_pred):.2f}\")\n",
    "print(f\"Recall Logistic Regression: {recall_score(y_teste, lr_pred):.2f}\")"
   ]
  },
  {
   "cell_type": "markdown",
   "id": "7f3e4952",
   "metadata": {},
   "source": [
    "O recall confirma que o melhor modelo para o que queremos prever é a árvore de decisão."
   ]
  }
 ],
 "metadata": {
  "kernelspec": {
   "display_name": "venv",
   "language": "python",
   "name": "python3"
  },
  "language_info": {
   "codemirror_mode": {
    "name": "ipython",
    "version": 3
   },
   "file_extension": ".py",
   "mimetype": "text/x-python",
   "name": "python",
   "nbconvert_exporter": "python",
   "pygments_lexer": "ipython3",
   "version": "3.10.9"
  }
 },
 "nbformat": 4,
 "nbformat_minor": 5
}
